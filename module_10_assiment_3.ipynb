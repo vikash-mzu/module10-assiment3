{
 "cells": [
  {
   "cell_type": "markdown",
   "id": "05744154-a920-43ac-aeda-3fe7b1b97050",
   "metadata": {},
   "source": [
    "1. What is multithreading in Python? Why is it used? Name the module used to handle threads in Python."
   ]
  },
  {
   "cell_type": "code",
   "execution_count": 2,
   "id": "b4990478-4820-4a88-b9db-23ba6339f9ab",
   "metadata": {},
   "outputs": [
    {
     "data": {
      "text/plain": [
       "'\\nMultithreading in Python is a way of running multiple threads (smaller units of a process) simultaneously within a single process. It is used to perform concurrent tasks, allowing a program to run multiple operations concurrently instead of sequentially, thus improving performance, especially for I/O-bound tasks.\\n\\nWhy is it used?\\n\\nIt helps improve performance when dealing with I/O-bound tasks, such as file handling, network operations, and databases.\\nIt can be useful when you want to perform multiple tasks at the same time, like processing user input while downloading data.\\nModule Used: The threading module is used to handle threads in Python.\\n'"
      ]
     },
     "execution_count": 2,
     "metadata": {},
     "output_type": "execute_result"
    }
   ],
   "source": [
    "'''\n",
    "Multithreading in Python is a way of running multiple threads (smaller units of a process) simultaneously within a single process. It is used to perform concurrent tasks, allowing a program to run multiple operations concurrently instead of sequentially, thus improving performance, especially for I/O-bound tasks.\n",
    "\n",
    "Why is it used?\n",
    "\n",
    "It helps improve performance when dealing with I/O-bound tasks, such as file handling, network operations, and databases.\n",
    "It can be useful when you want to perform multiple tasks at the same time, like processing user input while downloading data.\n",
    "Module Used: The threading module is used to handle threads in Python.\n",
    "'''"
   ]
  },
  {
   "cell_type": "markdown",
   "id": "ce948649-61db-4d5a-a9ff-76cc2685b8c5",
   "metadata": {},
   "source": [
    "2. Why is the threading module used? Write the use of the following functions:"
   ]
  },
  {
   "cell_type": "code",
   "execution_count": 5,
   "id": "507412f8-8c7a-4eed-802d-b449a0e646c9",
   "metadata": {},
   "outputs": [
    {
     "name": "stdout",
     "output_type": "stream",
     "text": [
      "9\n",
      "<_MainThread(MainThread, started 11796)>\n",
      "[<_MainThread(MainThread, started 11796)>, <Thread(IOPub, started daemon 9960)>, <Heartbeat(Heartbeat, started daemon 11148)>, <Thread(Tornado selector, started daemon 11508)>, <ControlThread(Control, started daemon 3704)>, <Thread(Tornado selector, started daemon 11412)>, <HistorySavingThread(IPythonHistorySavingThread, started 212)>, <ParentPollerWindows(Thread-4, started daemon 9840)>, <Thread(Tornado selector, started daemon 8792)>]\n"
     ]
    },
    {
     "name": "stderr",
     "output_type": "stream",
     "text": [
      "C:\\Users\\ADMIN\\AppData\\Local\\Temp\\ipykernel_8392\\3335942626.py:3: DeprecationWarning: activeCount() is deprecated, use active_count() instead\n",
      "  print(threading.activeCount())  # Example Output: 3\n",
      "C:\\Users\\ADMIN\\AppData\\Local\\Temp\\ipykernel_8392\\3335942626.py:6: DeprecationWarning: currentThread() is deprecated, use current_thread() instead\n",
      "  print(threading.currentThread())  # Output: <_MainThread(MainThread, started 123145583849472)>\n"
     ]
    }
   ],
   "source": [
    "#activeCount():\n",
    "import threading\n",
    "print(threading.activeCount())  # Example Output: 3\n",
    "#currentThread():\n",
    "import threading\n",
    "print(threading.currentThread())  # Output: <_MainThread(MainThread, started 123145583849472)>\n",
    "#enumerate():\n",
    "import threading\n",
    "print(threading.enumerate())  # Output: [<_MainThread(MainThread, started 123145583849472)>]\n"
   ]
  },
  {
   "cell_type": "markdown",
   "id": "f1afb30f-984b-4a35-9687-821bf49fd006",
   "metadata": {},
   "source": [
    "Explain the following functions:"
   ]
  },
  {
   "cell_type": "code",
   "execution_count": 8,
   "id": "0899ef16-1f66-4f82-b8a0-82e128cc6890",
   "metadata": {},
   "outputs": [
    {
     "name": "stdout",
     "output_type": "stream",
     "text": [
      "Thread started\n"
     ]
    }
   ],
   "source": [
    "'''\n",
    "run():\n",
    "\n",
    "This is the method that represents the thread’s activity. It's the code that will be executed when the thread is started. Usually, it contains the task the thread is supposed to perform.\n",
    "You typically override this method in a subclass of Thread.\n",
    "start():\n",
    "\n",
    "This method starts the thread by calling the run() method in a separate thread of execution.\n",
    "'''\n",
    "import threading\n",
    "\n",
    "def task():\n",
    "    print(\"Thread started\")\n",
    "\n",
    "t = threading.Thread(target=task)\n",
    "t.start()  # Starts the thread and runs the 'task' function\n"
   ]
  },
  {
   "cell_type": "code",
   "execution_count": null,
   "id": "0eb0fd1a-426a-42ac-993b-9070ebf5b6a7",
   "metadata": {},
   "outputs": [],
   "source": [
    "4. Write a Python program to create two threads. Thread one must print the list of squares and thread two must print the list of cubes."
   ]
  }
 ],
 "metadata": {
  "kernelspec": {
   "display_name": "Python 3 (ipykernel)",
   "language": "python",
   "name": "python3"
  },
  "language_info": {
   "codemirror_mode": {
    "name": "ipython",
    "version": 3
   },
   "file_extension": ".py",
   "mimetype": "text/x-python",
   "name": "python",
   "nbconvert_exporter": "python",
   "pygments_lexer": "ipython3",
   "version": "3.12.4"
  }
 },
 "nbformat": 4,
 "nbformat_minor": 5
}
